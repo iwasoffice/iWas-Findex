{
 "cells": [
  {
   "cell_type": "markdown",
   "metadata": {},
   "source": [
    "# 🧠 iWas Findex Prototype Notebook\n",
    "This notebook simulates basic use of the AI_EvolvingAgent with sample data."
   ]
  },
  {
   "cell_type": "code",
   "execution_count": null,
   "metadata": {},
   "outputs": [],
   "source": [
    "# Setup paths and import local code\n",
    "import sys\n",
    "sys.path.append(\"../src\")\n",
    "\n",
    "from ai_agent import AI_EvolvingAgent"
   ]
  },
  {
   "cell_type": "code",
   "execution_count": null,
   "metadata": {},
   "outputs": [],
   "source": [
    "# Simulate agent learning\n",
    "agent = AI_EvolvingAgent()\n",
    "\n",
    "for i in range(50):\n",
    "    fake_price = 100 + i + (i % 5)\n",
    "    agent.update_data({\"05. price\": str(fake_price)})\n",
    "\n",
    "agent.train_model()\n",
    "agent.predict_next_price()"
   ]
  }
 ],
 "metadata": {
  "kernelspec": {
   "display_name": "Python 3",
   "language": "python",
   "name": "python3"
  },
  "language_info": {
   "name": "python"
  }
 },
 "nbformat": 4,
 "nbformat_minor": 5
}
